{
 "cells": [
  {
   "cell_type": "markdown",
   "id": "7b780773-b596-4ad8-a6fe-29b34a506951",
   "metadata": {},
   "source": [
    "# Using PNEUMONIA classification model\n",
    "\n",
    "- test model and convert to `test-model.py` script"
   ]
  },
  {
   "cell_type": "code",
   "execution_count": 21,
   "id": "5a166137-4161-4e3c-8ea0-1e59292a3d79",
   "metadata": {
    "execution": {
     "iopub.execute_input": "2023-01-21T22:59:57.024811Z",
     "iopub.status.busy": "2023-01-21T22:59:57.024401Z",
     "iopub.status.idle": "2023-01-21T22:59:57.028950Z",
     "shell.execute_reply": "2023-01-21T22:59:57.028120Z",
     "shell.execute_reply.started": "2023-01-21T22:59:57.024786Z"
    },
    "tags": []
   },
   "outputs": [],
   "source": [
    "import numpy as np\n",
    "\n",
    "import tensorflow as tf\n",
    "from tensorflow import keras\n",
    "\n",
    "from tensorflow.keras.preprocessing.image import ImageDataGenerator\n",
    "from tensorflow.keras.preprocessing.image import load_img\n",
    "\n",
    "from tensorflow.keras.applications.xception import preprocess_input"
   ]
  },
  {
   "cell_type": "code",
   "execution_count": 22,
   "id": "37790096-b996-41ef-baff-f2723ffbad66",
   "metadata": {
    "execution": {
     "iopub.execute_input": "2023-01-21T23:00:03.556161Z",
     "iopub.status.busy": "2023-01-21T23:00:03.555710Z",
     "iopub.status.idle": "2023-01-21T23:00:04.949141Z",
     "shell.execute_reply": "2023-01-21T23:00:04.948499Z",
     "shell.execute_reply.started": "2023-01-21T23:00:03.556119Z"
    },
    "tags": []
   },
   "outputs": [],
   "source": [
    "model = keras.models.load_model('xray_model.h5')"
   ]
  },
  {
   "cell_type": "code",
   "execution_count": 23,
   "id": "2fab0ed1-6bd7-4a0e-8667-3d34a38f610d",
   "metadata": {
    "execution": {
     "iopub.execute_input": "2023-01-21T23:00:04.951024Z",
     "iopub.status.busy": "2023-01-21T23:00:04.950630Z",
     "iopub.status.idle": "2023-01-21T23:00:04.954946Z",
     "shell.execute_reply": "2023-01-21T23:00:04.954199Z",
     "shell.execute_reply.started": "2023-01-21T23:00:04.950990Z"
    },
    "tags": []
   },
   "outputs": [],
   "source": [
    "class_names = ['NORMAL', 'PNEUMONIA']"
   ]
  },
  {
   "cell_type": "code",
   "execution_count": 24,
   "id": "a8860cec-a0de-41f7-a8d3-b6670add0aa9",
   "metadata": {
    "execution": {
     "iopub.execute_input": "2023-01-21T23:00:05.257341Z",
     "iopub.status.busy": "2023-01-21T23:00:05.256953Z",
     "iopub.status.idle": "2023-01-21T23:00:05.277392Z",
     "shell.execute_reply": "2023-01-21T23:00:05.276739Z",
     "shell.execute_reply.started": "2023-01-21T23:00:05.257316Z"
    },
    "tags": []
   },
   "outputs": [],
   "source": [
    "path = './data/chest_xray/test/NORMAL/IM-0105-0001.jpeg'\n",
    "img = load_img(path, target_size=(299, 299))\n",
    "x = tf.keras.preprocessing.image.img_to_array(img)\n",
    "X = np.array([x])  # Convert single image to a batch.\n",
    "X = preprocess_input(X)"
   ]
  },
  {
   "cell_type": "code",
   "execution_count": 25,
   "id": "cb1aa670-c8a2-4c21-b89f-66a6f70601d1",
   "metadata": {
    "execution": {
     "iopub.execute_input": "2023-01-21T23:00:06.386421Z",
     "iopub.status.busy": "2023-01-21T23:00:06.386014Z",
     "iopub.status.idle": "2023-01-21T23:00:07.037710Z",
     "shell.execute_reply": "2023-01-21T23:00:07.036984Z",
     "shell.execute_reply.started": "2023-01-21T23:00:06.386395Z"
    },
    "tags": []
   },
   "outputs": [
    {
     "name": "stdout",
     "output_type": "stream",
     "text": [
      "1/1 [==============================] - 1s 619ms/step\n"
     ]
    }
   ],
   "source": [
    "prediction=model.predict(X)[0].flatten() "
   ]
  },
  {
   "cell_type": "code",
   "execution_count": 26,
   "id": "1369be04-8735-4506-82aa-0e81b6af82c4",
   "metadata": {
    "execution": {
     "iopub.execute_input": "2023-01-21T23:00:07.358731Z",
     "iopub.status.busy": "2023-01-21T23:00:07.358357Z",
     "iopub.status.idle": "2023-01-21T23:00:07.363793Z",
     "shell.execute_reply": "2023-01-21T23:00:07.363133Z",
     "shell.execute_reply.started": "2023-01-21T23:00:07.358706Z"
    },
    "tags": []
   },
   "outputs": [
    {
     "data": {
      "text/plain": [
       "array([ 2.8967211, -3.2266634], dtype=float32)"
      ]
     },
     "execution_count": 26,
     "metadata": {},
     "output_type": "execute_result"
    }
   ],
   "source": [
    "prediction"
   ]
  },
  {
   "cell_type": "code",
   "execution_count": 27,
   "id": "a4c564f6-7ec3-4088-8e3b-6dfe3134a3af",
   "metadata": {
    "execution": {
     "iopub.execute_input": "2023-01-21T23:00:08.310346Z",
     "iopub.status.busy": "2023-01-21T23:00:08.309965Z",
     "iopub.status.idle": "2023-01-21T23:00:08.314281Z",
     "shell.execute_reply": "2023-01-21T23:00:08.313510Z",
     "shell.execute_reply.started": "2023-01-21T23:00:08.310319Z"
    },
    "tags": []
   },
   "outputs": [],
   "source": [
    "prediction = (prediction - np.min(prediction))/np.ptp(prediction)"
   ]
  },
  {
   "cell_type": "code",
   "execution_count": 28,
   "id": "bd247be1-4086-4244-a6d3-d2f3569065b6",
   "metadata": {
    "execution": {
     "iopub.execute_input": "2023-01-21T23:00:09.702812Z",
     "iopub.status.busy": "2023-01-21T23:00:09.702365Z",
     "iopub.status.idle": "2023-01-21T23:00:09.708098Z",
     "shell.execute_reply": "2023-01-21T23:00:09.707321Z",
     "shell.execute_reply.started": "2023-01-21T23:00:09.702776Z"
    },
    "tags": []
   },
   "outputs": [
    {
     "data": {
      "text/plain": [
       "array([1., 0.], dtype=float32)"
      ]
     },
     "execution_count": 28,
     "metadata": {},
     "output_type": "execute_result"
    }
   ],
   "source": [
    "prediction"
   ]
  },
  {
   "cell_type": "code",
   "execution_count": 29,
   "id": "e46bf630-4d4f-4a07-bd53-faac46d95179",
   "metadata": {
    "execution": {
     "iopub.execute_input": "2023-01-21T23:00:10.600129Z",
     "iopub.status.busy": "2023-01-21T23:00:10.599733Z",
     "iopub.status.idle": "2023-01-21T23:00:10.605432Z",
     "shell.execute_reply": "2023-01-21T23:00:10.604710Z",
     "shell.execute_reply.started": "2023-01-21T23:00:10.600105Z"
    },
    "tags": []
   },
   "outputs": [
    {
     "data": {
      "text/plain": [
       "{'NORMAL': 1.0, 'PNEUMONIA': 0.0}"
      ]
     },
     "execution_count": 29,
     "metadata": {},
     "output_type": "execute_result"
    }
   ],
   "source": [
    "{class_names[i]: float(prediction[i]) for i in range(2)}"
   ]
  },
  {
   "cell_type": "code",
   "execution_count": null,
   "id": "4efbc001-b7a8-443d-ba5b-31e7284355de",
   "metadata": {},
   "outputs": [],
   "source": []
  }
 ],
 "metadata": {
  "kernelspec": {
   "display_name": "saturn (Python 3)",
   "language": "python",
   "name": "python3"
  },
  "language_info": {
   "codemirror_mode": {
    "name": "ipython",
    "version": 3
   },
   "file_extension": ".py",
   "mimetype": "text/x-python",
   "name": "python",
   "nbconvert_exporter": "python",
   "pygments_lexer": "ipython3",
   "version": "3.9.13"
  }
 },
 "nbformat": 4,
 "nbformat_minor": 5
}
